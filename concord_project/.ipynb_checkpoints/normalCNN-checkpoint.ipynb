{
 "cells": [
  {
   "cell_type": "code",
   "execution_count": 1,
   "metadata": {
    "collapsed": true
   },
   "outputs": [],
   "source": [
    "import pandas as pd\n",
    "import math\n",
    "import numpy as np"
   ]
  },
  {
   "cell_type": "code",
   "execution_count": 2,
   "metadata": {
    "collapsed": false
   },
   "outputs": [],
   "source": [
    "import pickle\n",
    "XX = pickle.load(open(\"bias_P&V_15\\2\\3\\5\\20_X\",\"rb\"))\n",
    "YY = pickle.load(open(\"bias_P&V_15\\2\\3\\5\\20_Y\",\"rb\"))"
   ]
  },
  {
   "cell_type": "code",
   "execution_count": 3,
   "metadata": {
    "collapsed": false
   },
   "outputs": [
    {
     "name": "stdout",
     "output_type": "stream",
     "text": [
      "(10000, 20, 20, 2)\n",
      "(828, 3)\n"
     ]
    }
   ],
   "source": [
    "from sklearn.utils import shuffle\n",
    "XX, YY = shuffle(XX, YY, random_state=1)\n",
    "\n",
    "train_x = XX[:10000,:,:,1]\n",
    "test_x = XX[10000:,:,:,1]\n",
    "train_y = YY[:10000,:]\n",
    "test_y = YY[10000:,:]\n",
    "\n",
    "print(train_x.shape)\n",
    "print(test_y.shape)\n"
   ]
  },
  {
   "cell_type": "code",
   "execution_count": 4,
   "metadata": {
    "collapsed": false
   },
   "outputs": [],
   "source": [
    "import tensorflow as tf\n",
    "sess = tf.InteractiveSession()"
   ]
  },
  {
   "cell_type": "code",
   "execution_count": 5,
   "metadata": {
    "collapsed": false
   },
   "outputs": [],
   "source": [
    "def weight_variable(shape):\n",
    "  initial = tf.truncated_normal(shape, stddev=0.1)\n",
    "  return tf.Variable(initial)\n",
    "\n",
    "def bias_variable(shape):\n",
    "  initial = tf.constant(0.1, shape=shape)\n",
    "  return tf.Variable(initial)\n",
    "\n",
    "def conv2d(x, W):\n",
    "  return tf.nn.conv2d(x, W, strides=[1, 1, 1, 1], padding='VALID') #1x1 patch stride = 1\n",
    "\n",
    "def max_pool_2x2(x):\n",
    "  return tf.nn.max_pool(x, ksize=[1, 2, 2, 1], #Due to 2x2, half output size\n",
    "                        strides=[1, 2, 2, 1], padding='VALID')\n",
    "        "
   ]
  },
  {
   "cell_type": "code",
   "execution_count": 6,
   "metadata": {
    "collapsed": false
   },
   "outputs": [],
   "source": [
    "x = tf.placeholder(tf.float32, shape=[None, 20,20])\n",
    "y_ = tf.placeholder(tf.float32, shape=[None, 3])"
   ]
  },
  {
   "cell_type": "code",
   "execution_count": 7,
   "metadata": {
    "collapsed": false
   },
   "outputs": [
    {
     "name": "stdout",
     "output_type": "stream",
     "text": [
      "Tensor(\"Relu:0\", shape=(?, 16, 16, 32), dtype=float32)\n",
      "Tensor(\"MaxPool:0\", shape=(?, 8, 8, 32), dtype=float32)\n"
     ]
    }
   ],
   "source": [
    "W_conv1 = weight_variable([5, 5, 1, 32]) #index 2: input size(depth = 5); index 3:output size(depth = 32)\n",
    "b_conv1 = bias_variable([32])\n",
    "x_image = tf.reshape(x, [-1,20,20,1])\n",
    "h_conv1 = tf.nn.relu(conv2d(x_image, W_conv1) + b_conv1)\n",
    "h_pool1 = max_pool_2x2(h_conv1)\n",
    "\n",
    "print(h_conv1)\n",
    "print(h_pool1)\n"
   ]
  },
  {
   "cell_type": "code",
   "execution_count": 8,
   "metadata": {
    "collapsed": false
   },
   "outputs": [
    {
     "name": "stdout",
     "output_type": "stream",
     "text": [
      "Tensor(\"Relu_1:0\", shape=(?, 6, 6, 128), dtype=float32)\n",
      "Tensor(\"MaxPool_1:0\", shape=(?, 3, 3, 128), dtype=float32)\n"
     ]
    }
   ],
   "source": [
    "W_conv2 = weight_variable([3, 3, 32, 128])\n",
    "b_conv2 = bias_variable([128])\n",
    "h_conv2 = tf.nn.relu(conv2d(h_pool1, W_conv2) + b_conv2)\n",
    "h_pool2 = max_pool_2x2(h_conv2)\n",
    "\n",
    "print(h_conv2)\n",
    "print(h_pool2)"
   ]
  },
  {
   "cell_type": "code",
   "execution_count": 9,
   "metadata": {
    "collapsed": false
   },
   "outputs": [],
   "source": [
    "W_fc1 = weight_variable([3 * 3 * 128, 512])\n",
    "b_fc1 = bias_variable([512])\n",
    "\n",
    "h_pool2_flat = tf.reshape(h_pool2, [-1, 3 * 3 * 128])\n",
    "h_fc1 = tf.nn.relu(tf.matmul(h_pool2_flat, W_fc1) + b_fc1)\n",
    "\n",
    "keep_prob = tf.placeholder(tf.float32)\n",
    "h_fc1_drop = tf.nn.dropout(h_fc1, keep_prob)\n",
    "\n",
    "W_fc2 = weight_variable([512, 3])\n",
    "b_fc2 = bias_variable([3])\n",
    "y_conv= tf.nn.softmax(tf.matmul(h_fc1_drop, W_fc2) + b_fc2)\n"
   ]
  },
  {
   "cell_type": "code",
   "execution_count": 10,
   "metadata": {
    "collapsed": false
   },
   "outputs": [
    {
     "name": "stdout",
     "output_type": "stream",
     "text": [
      "Tensor(\"Placeholder:0\", shape=(?, 20, 20, 2), dtype=float32)\n",
      "Tensor(\"Reshape:0\", shape=(?, 20, 20, 2), dtype=float32)\n",
      "Tensor(\"Relu:0\", shape=(?, 16, 16, 32), dtype=float32)\n",
      "Tensor(\"MaxPool:0\", shape=(?, 8, 8, 32), dtype=float32)\n",
      "Tensor(\"Relu_1:0\", shape=(?, 6, 6, 128), dtype=float32)\n",
      "Tensor(\"MaxPool_1:0\", shape=(?, 3, 3, 128), dtype=float32)\n",
      "Tensor(\"Reshape_1:0\", shape=(?, 1152), dtype=float32)\n",
      "Tensor(\"Relu_2:0\", shape=(?, 512), dtype=float32)\n",
      "Tensor(\"dropout/mul:0\", shape=(?, 512), dtype=float32)\n",
      "Tensor(\"Softmax:0\", shape=(?, 3), dtype=float32)\n"
     ]
    }
   ],
   "source": [
    "print(x)\n",
    "print(x_image)\n",
    "print(h_conv1)\n",
    "print(h_pool1)\n",
    "print(h_conv2)\n",
    "print(h_pool2)\n",
    "print(h_pool2_flat)\n",
    "print(h_fc1)\n",
    "print(h_fc1_drop)\n",
    "print(y_conv)"
   ]
  },
  {
   "cell_type": "code",
   "execution_count": 11,
   "metadata": {
    "collapsed": false
   },
   "outputs": [],
   "source": [
    "cross_entropy = tf.reduce_mean(-tf.reduce_sum(y_ * tf.log(y_conv), reduction_indices=[1]))\n",
    "train_step = tf.train.AdamOptimizer(1e-3).minimize(cross_entropy)\n",
    "correct_prediction = tf.equal(tf.argmax(y_conv,1), tf.argmax(y_,1))\n",
    "accuracy = tf.reduce_mean(tf.cast(correct_prediction, tf.float32)) \n",
    "\n",
    "test= tf.log(y_conv)"
   ]
  },
  {
   "cell_type": "code",
   "execution_count": 12,
   "metadata": {
    "collapsed": false
   },
   "outputs": [
    {
     "name": "stdout",
     "output_type": "stream",
     "text": [
      "step 0, training accuracy 0.315\n",
      "test accuracy 0.327295\n",
      "cross_entropy 2.03294\n",
      "[[-0.08078316 -3.06190157 -3.47999144]\n",
      " [-0.09180137 -3.03131485 -3.23243165]\n",
      " [-0.10333828 -2.36587048 -5.44668198]\n",
      " ..., \n",
      " [-0.13977726 -2.6184988  -2.85534644]\n",
      " [-0.40007409 -1.38403285 -2.53623867]\n",
      " [-0.16508871 -2.10686398 -3.4879756 ]]\n",
      "step 100, training accuracy 0.4556\n",
      "test accuracy 0.434783\n",
      "cross_entropy 1.07513\n",
      "[[-1.20539439 -1.55130339 -0.71650851]\n",
      " [-1.20539439 -1.55130339 -0.71650851]\n",
      " [-1.20539439 -1.55130339 -0.71650851]\n",
      " ..., \n",
      " [-1.20539439 -1.55130339 -0.71650851]\n",
      " [-1.20539439 -1.55130339 -0.71650851]\n",
      " [-1.20539439 -1.55130339 -0.71650851]]\n",
      "step 200, training accuracy 0.4556\n",
      "test accuracy 0.434783\n",
      "cross_entropy 1.06952\n",
      "[[-1.1458801  -1.43159759 -0.81389391]\n",
      " [-1.1458801  -1.43159759 -0.81389391]\n",
      " [-1.1458801  -1.43159759 -0.81389391]\n",
      " ..., \n",
      " [-1.1458801  -1.43159759 -0.81389391]\n",
      " [-1.1458801  -1.43159759 -0.81389391]\n",
      " [-1.1458801  -1.43159759 -0.81389391]]\n",
      "step 300, training accuracy 0.4556\n",
      "test accuracy 0.434783\n",
      "cross_entropy 1.0693\n",
      "[[-1.11695373 -1.4340694  -0.83381778]\n",
      " [-1.11695373 -1.4340694  -0.83381778]\n",
      " [-1.11695373 -1.4340694  -0.83381778]\n",
      " ..., \n",
      " [-1.11695373 -1.4340694  -0.83381778]\n",
      " [-1.11695373 -1.4340694  -0.83381778]\n",
      " [-1.11695373 -1.4340694  -0.83381778]]\n",
      "step 400, training accuracy 0.4556\n",
      "test accuracy 0.434783\n",
      "cross_entropy 1.07044\n",
      "[[-1.1676935  -1.46706581 -0.78019792]\n",
      " [-1.1676935  -1.46706581 -0.78019792]\n",
      " [-1.1676935  -1.46706581 -0.78019792]\n",
      " ..., \n",
      " [-1.1676935  -1.46706581 -0.78019792]\n",
      " [-1.1676935  -1.46706581 -0.78019792]\n",
      " [-1.1676935  -1.46706581 -0.78019792]]\n",
      "step 500, training accuracy 0.4556\n",
      "test accuracy 0.434783\n",
      "cross_entropy 1.06963\n",
      "[[-1.15258956 -1.43222094 -0.80877322]\n",
      " [-1.15258956 -1.43222094 -0.80877322]\n",
      " [-1.15258956 -1.43222094 -0.80877322]\n",
      " ..., \n",
      " [-1.15258956 -1.43222094 -0.80877322]\n",
      " [-1.15258956 -1.43222094 -0.80877322]\n",
      " [-1.15258956 -1.43222094 -0.80877322]]\n",
      "step 600, training accuracy 0.4556\n",
      "test accuracy 0.434783\n",
      "cross_entropy 1.07001\n",
      "[[-1.14244497 -1.47945452 -0.79142159]\n",
      " [-1.14244497 -1.47945452 -0.79142159]\n",
      " [-1.14244497 -1.47945452 -0.79142159]\n",
      " ..., \n",
      " [-1.14244497 -1.47945452 -0.79142159]\n",
      " [-1.14244497 -1.47945452 -0.79142159]\n",
      " [-1.14244497 -1.47945452 -0.79142159]]\n",
      "step 700, training accuracy 0.4556\n",
      "test accuracy 0.434783\n",
      "cross_entropy 1.07058\n",
      "[[-1.17886388 -1.45307052 -0.77974963]\n",
      " [-1.17886388 -1.45307052 -0.77974963]\n",
      " [-1.17886388 -1.45307052 -0.77974963]\n",
      " ..., \n",
      " [-1.17886388 -1.45307052 -0.77974963]\n",
      " [-1.17886388 -1.45307052 -0.77974963]\n",
      " [-1.17886388 -1.45307052 -0.77974963]]\n",
      "step 800, training accuracy 0.4556\n",
      "test accuracy 0.434783\n",
      "cross_entropy 1.07061\n",
      "[[-1.19145977 -1.41197836 -0.79283088]\n",
      " [-1.19145977 -1.41197836 -0.79283088]\n",
      " [-1.19145977 -1.41197836 -0.79283088]\n",
      " ..., \n",
      " [-1.19145977 -1.41197836 -0.79283088]\n",
      " [-1.19145977 -1.41197836 -0.79283088]\n",
      " [-1.19145977 -1.41197836 -0.79283088]]\n",
      "step 900, training accuracy 0.4556\n",
      "test accuracy 0.434783\n",
      "cross_entropy 1.06955\n",
      "[[-1.14430892 -1.44293451 -0.8089565 ]\n",
      " [-1.14430892 -1.44293451 -0.8089565 ]\n",
      " [-1.14430892 -1.44293451 -0.8089565 ]\n",
      " ..., \n",
      " [-1.14430892 -1.44293451 -0.8089565 ]\n",
      " [-1.14430892 -1.44293451 -0.8089565 ]\n",
      " [-1.14430892 -1.44293451 -0.8089565 ]]\n",
      "step 1000, training accuracy 0.4556\n",
      "test accuracy 0.434783\n",
      "cross_entropy 1.06984\n",
      "[[-1.16428185 -1.42051923 -0.80684304]\n",
      " [-1.16428185 -1.42051923 -0.80684304]\n",
      " [-1.16428185 -1.42051923 -0.80684304]\n",
      " ..., \n",
      " [-1.16428185 -1.42051923 -0.80684304]\n",
      " [-1.16428185 -1.42051923 -0.80684304]\n",
      " [-1.16428185 -1.42051923 -0.80684304]]\n",
      "step 1100, training accuracy 0.4556\n",
      "test accuracy 0.434783\n",
      "cross_entropy 1.07299\n",
      "[[-1.2011559  -1.50680149 -0.73911572]\n",
      " [-1.2011559  -1.50680149 -0.73911572]\n",
      " [-1.2011559  -1.50680149 -0.73911572]\n",
      " ..., \n",
      " [-1.2011559  -1.50680149 -0.73911572]\n",
      " [-1.2011559  -1.50680149 -0.73911572]\n",
      " [-1.2011559  -1.50680149 -0.73911572]]\n",
      "step 1200, training accuracy 0.4556\n",
      "test accuracy 0.434783\n",
      "cross_entropy 1.07055\n",
      "[[-1.14300203 -1.50240874 -0.77969408]\n",
      " [-1.14300203 -1.50240874 -0.77969408]\n",
      " [-1.14300203 -1.50240874 -0.77969408]\n",
      " ..., \n",
      " [-1.14300203 -1.50240874 -0.77969408]\n",
      " [-1.14300203 -1.50240874 -0.77969408]\n",
      " [-1.14300203 -1.50240874 -0.77969408]]\n",
      "step 1300, training accuracy 0.4556\n",
      "test accuracy 0.434783\n",
      "cross_entropy 1.07084\n",
      "[[-1.14444375 -1.51128137 -0.77441794]\n",
      " [-1.14444375 -1.51128137 -0.77441794]\n",
      " [-1.14444375 -1.51128137 -0.77441794]\n",
      " ..., \n",
      " [-1.14444375 -1.51128137 -0.77441794]\n",
      " [-1.14444375 -1.51128137 -0.77441794]\n",
      " [-1.14444375 -1.51128137 -0.77441794]]\n",
      "step 1400, training accuracy 0.4556\n",
      "test accuracy 0.434783\n",
      "cross_entropy 1.07141\n",
      "[[-1.18106771 -1.4872731  -0.76129532]\n",
      " [-1.18106771 -1.4872731  -0.76129532]\n",
      " [-1.18106771 -1.4872731  -0.76129532]\n",
      " ..., \n",
      " [-1.18106771 -1.4872731  -0.76129532]\n",
      " [-1.18106771 -1.4872731  -0.76129532]\n",
      " [-1.18106771 -1.4872731  -0.76129532]]\n",
      "step 1500, training accuracy 0.4556\n",
      "test accuracy 0.434783\n",
      "cross_entropy 1.07102\n",
      "[[-1.16354394 -1.49716747 -0.76817298]\n",
      " [-1.16354394 -1.49716747 -0.76817298]\n",
      " [-1.16354394 -1.49716747 -0.76817298]\n",
      " ..., \n",
      " [-1.16354394 -1.49716747 -0.76817298]\n",
      " [-1.16354394 -1.49716747 -0.76817298]\n",
      " [-1.16354394 -1.49716747 -0.76817298]]\n",
      "step 1600, training accuracy 0.4556\n",
      "test accuracy 0.434783\n",
      "cross_entropy 1.06974\n",
      "[[-1.1388005  -1.46786439 -0.79988635]\n",
      " [-1.1388005  -1.46786439 -0.79988635]\n",
      " [-1.1388005  -1.46786439 -0.79988635]\n",
      " ..., \n",
      " [-1.1388005  -1.46786439 -0.79988635]\n",
      " [-1.1388005  -1.46786439 -0.79988635]\n",
      " [-1.1388005  -1.46786439 -0.79988635]]\n",
      "step 1700, training accuracy 0.4556\n",
      "test accuracy 0.434783\n",
      "cross_entropy 1.06996\n",
      "[[-1.14971614 -1.46763003 -0.79229969]\n",
      " [-1.14971614 -1.46763003 -0.79229969]\n",
      " [-1.14971614 -1.46763003 -0.79229969]\n",
      " ..., \n",
      " [-1.14971614 -1.46763003 -0.79229969]\n",
      " [-1.14971614 -1.46763003 -0.79229969]\n",
      " [-1.14971614 -1.46763003 -0.79229969]]\n",
      "step 1800, training accuracy 0.4556\n",
      "test accuracy 0.434783\n",
      "cross_entropy 1.07114\n",
      "[[-1.18167186 -1.47577286 -0.7665084 ]\n",
      " [-1.18167186 -1.47577286 -0.7665084 ]\n",
      " [-1.18167186 -1.47577286 -0.7665084 ]\n",
      " ..., \n",
      " [-1.18167186 -1.47577286 -0.7665084 ]\n",
      " [-1.18167186 -1.47577286 -0.7665084 ]\n",
      " [-1.18167186 -1.47577286 -0.7665084 ]]\n",
      "step 1900, training accuracy 0.4556\n",
      "test accuracy 0.434783\n",
      "cross_entropy 1.06957\n",
      "[[-1.14655554 -1.44054854 -0.80861878]\n",
      " [-1.14655554 -1.44054854 -0.80861878]\n",
      " [-1.14655554 -1.44054854 -0.80861878]\n",
      " ..., \n",
      " [-1.14655554 -1.44054854 -0.80861878]\n",
      " [-1.14655554 -1.44054854 -0.80861878]\n",
      " [-1.14655554 -1.44054854 -0.80861878]]\n"
     ]
    },
    {
     "ename": "KeyboardInterrupt",
     "evalue": "",
     "output_type": "error",
     "traceback": [
      "\u001b[1;31m---------------------------------------------------------------------------\u001b[0m",
      "\u001b[1;31mKeyboardInterrupt\u001b[0m                         Traceback (most recent call last)",
      "\u001b[1;32m<ipython-input-12-3efdbaae1f80>\u001b[0m in \u001b[0;36m<module>\u001b[1;34m()\u001b[0m\n\u001b[0;32m     17\u001b[0m \u001b[1;33m\u001b[0m\u001b[0m\n\u001b[0;32m     18\u001b[0m \u001b[1;33m\u001b[0m\u001b[0m\n\u001b[1;32m---> 19\u001b[1;33m     \u001b[0mtrain_step\u001b[0m\u001b[1;33m.\u001b[0m\u001b[0mrun\u001b[0m\u001b[1;33m(\u001b[0m\u001b[0mfeed_dict\u001b[0m\u001b[1;33m=\u001b[0m\u001b[1;33m{\u001b[0m\u001b[0mx\u001b[0m\u001b[1;33m:\u001b[0m \u001b[0mtrain_x\u001b[0m\u001b[1;33m[\u001b[0m\u001b[1;33m:\u001b[0m\u001b[1;36m200\u001b[0m\u001b[1;33m]\u001b[0m\u001b[1;33m,\u001b[0m \u001b[0my_\u001b[0m\u001b[1;33m:\u001b[0m \u001b[0mtrain_y\u001b[0m\u001b[1;33m[\u001b[0m\u001b[1;33m:\u001b[0m\u001b[1;36m200\u001b[0m\u001b[1;33m]\u001b[0m\u001b[1;33m,\u001b[0m \u001b[0mkeep_prob\u001b[0m\u001b[1;33m:\u001b[0m \u001b[1;36m0.5\u001b[0m\u001b[1;33m}\u001b[0m\u001b[1;33m)\u001b[0m\u001b[1;33m\u001b[0m\u001b[0m\n\u001b[0m\u001b[0;32m     20\u001b[0m \u001b[1;33m\u001b[0m\u001b[0m\n\u001b[0;32m     21\u001b[0m print(\"test accuracy %g\"%accuracy.eval(feed_dict={\n",
      "\u001b[1;32m/home/joufan/.conda/envs/tf_conda/lib/python3.5/site-packages/tensorflow/python/framework/ops.py\u001b[0m in \u001b[0;36mrun\u001b[1;34m(self, feed_dict, session)\u001b[0m\n\u001b[0;32m   1617\u001b[0m         \u001b[0mnone\u001b[0m\u001b[1;33m,\u001b[0m \u001b[0mthe\u001b[0m \u001b[0mdefault\u001b[0m \u001b[0msession\u001b[0m \u001b[0mwill\u001b[0m \u001b[0mbe\u001b[0m \u001b[0mused\u001b[0m\u001b[1;33m.\u001b[0m\u001b[1;33m\u001b[0m\u001b[0m\n\u001b[0;32m   1618\u001b[0m     \"\"\"\n\u001b[1;32m-> 1619\u001b[1;33m     \u001b[0m_run_using_default_session\u001b[0m\u001b[1;33m(\u001b[0m\u001b[0mself\u001b[0m\u001b[1;33m,\u001b[0m \u001b[0mfeed_dict\u001b[0m\u001b[1;33m,\u001b[0m \u001b[0mself\u001b[0m\u001b[1;33m.\u001b[0m\u001b[0mgraph\u001b[0m\u001b[1;33m,\u001b[0m \u001b[0msession\u001b[0m\u001b[1;33m)\u001b[0m\u001b[1;33m\u001b[0m\u001b[0m\n\u001b[0m\u001b[0;32m   1620\u001b[0m \u001b[1;33m\u001b[0m\u001b[0m\n\u001b[0;32m   1621\u001b[0m \u001b[1;33m\u001b[0m\u001b[0m\n",
      "\u001b[1;32m/home/joufan/.conda/envs/tf_conda/lib/python3.5/site-packages/tensorflow/python/framework/ops.py\u001b[0m in \u001b[0;36m_run_using_default_session\u001b[1;34m(operation, feed_dict, graph, session)\u001b[0m\n\u001b[0;32m   3794\u001b[0m                        \u001b[1;34m\"the operation's graph is different from the session's \"\u001b[0m\u001b[1;33m\u001b[0m\u001b[0m\n\u001b[0;32m   3795\u001b[0m                        \"graph.\")\n\u001b[1;32m-> 3796\u001b[1;33m   \u001b[0msession\u001b[0m\u001b[1;33m.\u001b[0m\u001b[0mrun\u001b[0m\u001b[1;33m(\u001b[0m\u001b[0moperation\u001b[0m\u001b[1;33m,\u001b[0m \u001b[0mfeed_dict\u001b[0m\u001b[1;33m)\u001b[0m\u001b[1;33m\u001b[0m\u001b[0m\n\u001b[0m\u001b[0;32m   3797\u001b[0m \u001b[1;33m\u001b[0m\u001b[0m\n\u001b[0;32m   3798\u001b[0m \u001b[1;33m\u001b[0m\u001b[0m\n",
      "\u001b[1;32m/home/joufan/.conda/envs/tf_conda/lib/python3.5/site-packages/tensorflow/python/client/session.py\u001b[0m in \u001b[0;36mrun\u001b[1;34m(self, fetches, feed_dict, options, run_metadata)\u001b[0m\n\u001b[0;32m    715\u001b[0m     \u001b[1;32mtry\u001b[0m\u001b[1;33m:\u001b[0m\u001b[1;33m\u001b[0m\u001b[0m\n\u001b[0;32m    716\u001b[0m       result = self._run(None, fetches, feed_dict, options_ptr,\n\u001b[1;32m--> 717\u001b[1;33m                          run_metadata_ptr)\n\u001b[0m\u001b[0;32m    718\u001b[0m       \u001b[1;32mif\u001b[0m \u001b[0mrun_metadata\u001b[0m\u001b[1;33m:\u001b[0m\u001b[1;33m\u001b[0m\u001b[0m\n\u001b[0;32m    719\u001b[0m         \u001b[0mproto_data\u001b[0m \u001b[1;33m=\u001b[0m \u001b[0mtf_session\u001b[0m\u001b[1;33m.\u001b[0m\u001b[0mTF_GetBuffer\u001b[0m\u001b[1;33m(\u001b[0m\u001b[0mrun_metadata_ptr\u001b[0m\u001b[1;33m)\u001b[0m\u001b[1;33m\u001b[0m\u001b[0m\n",
      "\u001b[1;32m/home/joufan/.conda/envs/tf_conda/lib/python3.5/site-packages/tensorflow/python/client/session.py\u001b[0m in \u001b[0;36m_run\u001b[1;34m(self, handle, fetches, feed_dict, options, run_metadata)\u001b[0m\n\u001b[0;32m    913\u001b[0m     \u001b[1;32mif\u001b[0m \u001b[0mfinal_fetches\u001b[0m \u001b[1;32mor\u001b[0m \u001b[0mfinal_targets\u001b[0m\u001b[1;33m:\u001b[0m\u001b[1;33m\u001b[0m\u001b[0m\n\u001b[0;32m    914\u001b[0m       results = self._do_run(handle, final_targets, final_fetches,\n\u001b[1;32m--> 915\u001b[1;33m                              feed_dict_string, options, run_metadata)\n\u001b[0m\u001b[0;32m    916\u001b[0m     \u001b[1;32melse\u001b[0m\u001b[1;33m:\u001b[0m\u001b[1;33m\u001b[0m\u001b[0m\n\u001b[0;32m    917\u001b[0m       \u001b[0mresults\u001b[0m \u001b[1;33m=\u001b[0m \u001b[1;33m[\u001b[0m\u001b[1;33m]\u001b[0m\u001b[1;33m\u001b[0m\u001b[0m\n",
      "\u001b[1;32m/home/joufan/.conda/envs/tf_conda/lib/python3.5/site-packages/tensorflow/python/client/session.py\u001b[0m in \u001b[0;36m_do_run\u001b[1;34m(self, handle, target_list, fetch_list, feed_dict, options, run_metadata)\u001b[0m\n\u001b[0;32m    963\u001b[0m     \u001b[1;32mif\u001b[0m \u001b[0mhandle\u001b[0m \u001b[1;32mis\u001b[0m \u001b[1;32mNone\u001b[0m\u001b[1;33m:\u001b[0m\u001b[1;33m\u001b[0m\u001b[0m\n\u001b[0;32m    964\u001b[0m       return self._do_call(_run_fn, self._session, feed_dict, fetch_list,\n\u001b[1;32m--> 965\u001b[1;33m                            target_list, options, run_metadata)\n\u001b[0m\u001b[0;32m    966\u001b[0m     \u001b[1;32melse\u001b[0m\u001b[1;33m:\u001b[0m\u001b[1;33m\u001b[0m\u001b[0m\n\u001b[0;32m    967\u001b[0m       return self._do_call(_prun_fn, self._session, handle, feed_dict,\n",
      "\u001b[1;32m/home/joufan/.conda/envs/tf_conda/lib/python3.5/site-packages/tensorflow/python/client/session.py\u001b[0m in \u001b[0;36m_do_call\u001b[1;34m(self, fn, *args)\u001b[0m\n\u001b[0;32m    970\u001b[0m   \u001b[1;32mdef\u001b[0m \u001b[0m_do_call\u001b[0m\u001b[1;33m(\u001b[0m\u001b[0mself\u001b[0m\u001b[1;33m,\u001b[0m \u001b[0mfn\u001b[0m\u001b[1;33m,\u001b[0m \u001b[1;33m*\u001b[0m\u001b[0margs\u001b[0m\u001b[1;33m)\u001b[0m\u001b[1;33m:\u001b[0m\u001b[1;33m\u001b[0m\u001b[0m\n\u001b[0;32m    971\u001b[0m     \u001b[1;32mtry\u001b[0m\u001b[1;33m:\u001b[0m\u001b[1;33m\u001b[0m\u001b[0m\n\u001b[1;32m--> 972\u001b[1;33m       \u001b[1;32mreturn\u001b[0m \u001b[0mfn\u001b[0m\u001b[1;33m(\u001b[0m\u001b[1;33m*\u001b[0m\u001b[0margs\u001b[0m\u001b[1;33m)\u001b[0m\u001b[1;33m\u001b[0m\u001b[0m\n\u001b[0m\u001b[0;32m    973\u001b[0m     \u001b[1;32mexcept\u001b[0m \u001b[0merrors\u001b[0m\u001b[1;33m.\u001b[0m\u001b[0mOpError\u001b[0m \u001b[1;32mas\u001b[0m \u001b[0me\u001b[0m\u001b[1;33m:\u001b[0m\u001b[1;33m\u001b[0m\u001b[0m\n\u001b[0;32m    974\u001b[0m       \u001b[0mmessage\u001b[0m \u001b[1;33m=\u001b[0m \u001b[0mcompat\u001b[0m\u001b[1;33m.\u001b[0m\u001b[0mas_text\u001b[0m\u001b[1;33m(\u001b[0m\u001b[0me\u001b[0m\u001b[1;33m.\u001b[0m\u001b[0mmessage\u001b[0m\u001b[1;33m)\u001b[0m\u001b[1;33m\u001b[0m\u001b[0m\n",
      "\u001b[1;32m/home/joufan/.conda/envs/tf_conda/lib/python3.5/site-packages/tensorflow/python/client/session.py\u001b[0m in \u001b[0;36m_run_fn\u001b[1;34m(session, feed_dict, fetch_list, target_list, options, run_metadata)\u001b[0m\n\u001b[0;32m    952\u001b[0m         return tf_session.TF_Run(session, options,\n\u001b[0;32m    953\u001b[0m                                  \u001b[0mfeed_dict\u001b[0m\u001b[1;33m,\u001b[0m \u001b[0mfetch_list\u001b[0m\u001b[1;33m,\u001b[0m \u001b[0mtarget_list\u001b[0m\u001b[1;33m,\u001b[0m\u001b[1;33m\u001b[0m\u001b[0m\n\u001b[1;32m--> 954\u001b[1;33m                                  status, run_metadata)\n\u001b[0m\u001b[0;32m    955\u001b[0m \u001b[1;33m\u001b[0m\u001b[0m\n\u001b[0;32m    956\u001b[0m     \u001b[1;32mdef\u001b[0m \u001b[0m_prun_fn\u001b[0m\u001b[1;33m(\u001b[0m\u001b[0msession\u001b[0m\u001b[1;33m,\u001b[0m \u001b[0mhandle\u001b[0m\u001b[1;33m,\u001b[0m \u001b[0mfeed_dict\u001b[0m\u001b[1;33m,\u001b[0m \u001b[0mfetch_list\u001b[0m\u001b[1;33m)\u001b[0m\u001b[1;33m:\u001b[0m\u001b[1;33m\u001b[0m\u001b[0m\n",
      "\u001b[1;31mKeyboardInterrupt\u001b[0m: "
     ]
    }
   ],
   "source": [
    "sess.run(tf.initialize_all_variables())\n",
    "for i in range(10000):\n",
    "    train_x, train_y = shuffle(train_x, train_y, random_state=2)\n",
    "    if i%100 == 0:\n",
    "        train_accuracy = accuracy.eval(feed_dict={\n",
    "            x:train_x, y_: train_y, keep_prob: 0.8})\n",
    "\n",
    "        print(\"step %d, training accuracy %g\"%(i, train_accuracy))\n",
    "        print(\"test accuracy %g\"%accuracy.eval(feed_dict={\n",
    "        x: test_x, y_: test_y, keep_prob: 0.8}))\n",
    "        \n",
    "        print(\"cross_entropy %g\"%cross_entropy.eval(feed_dict={\n",
    "        x: test_x, y_: test_y, keep_prob: 0.8}))\n",
    "        \n",
    "        print(test.eval(feed_dict={\n",
    "        x: train_x, y_: train_y, keep_prob: 0.8}))\n",
    "            \n",
    "\n",
    "    train_step.run(feed_dict={x: train_x[:200], y_: train_y[:200], keep_prob: 0.5})\n",
    "\n",
    "print(\"test accuracy %g\"%accuracy.eval(feed_dict={\n",
    "    x: test_x, y_: test_y, keep_prob: 0.8}))"
   ]
  },
  {
   "cell_type": "code",
   "execution_count": null,
   "metadata": {
    "collapsed": false
   },
   "outputs": [],
   "source": []
  },
  {
   "cell_type": "code",
   "execution_count": null,
   "metadata": {
    "collapsed": false
   },
   "outputs": [],
   "source": []
  },
  {
   "cell_type": "code",
   "execution_count": null,
   "metadata": {
    "collapsed": false
   },
   "outputs": [],
   "source": []
  },
  {
   "cell_type": "code",
   "execution_count": null,
   "metadata": {
    "collapsed": false
   },
   "outputs": [],
   "source": []
  },
  {
   "cell_type": "code",
   "execution_count": null,
   "metadata": {
    "collapsed": false
   },
   "outputs": [],
   "source": [
    "sess.close()"
   ]
  },
  {
   "cell_type": "code",
   "execution_count": null,
   "metadata": {
    "collapsed": false
   },
   "outputs": [],
   "source": [
    "A= sum(train_y[:,0] ==1)\n",
    "B =sum(train_y[:,1] ==1)\n",
    "C= sum(train_y[:,2] ==1)\n",
    "print(A)\n",
    "print(B)\n",
    "print(C)"
   ]
  },
  {
   "cell_type": "code",
   "execution_count": null,
   "metadata": {
    "collapsed": false
   },
   "outputs": [],
   "source": [
    "A= sum(test_y[:,0] ==1)\n",
    "B =sum(test_y[:,1] ==1)\n",
    "C= sum(test_y[:,2] ==1)\n",
    "print(A)\n",
    "print(B)\n",
    "print(C)"
   ]
  },
  {
   "cell_type": "code",
   "execution_count": null,
   "metadata": {
    "collapsed": false
   },
   "outputs": [],
   "source": [
    "\n"
   ]
  },
  {
   "cell_type": "code",
   "execution_count": null,
   "metadata": {
    "collapsed": false
   },
   "outputs": [],
   "source": []
  },
  {
   "cell_type": "code",
   "execution_count": null,
   "metadata": {
    "collapsed": false
   },
   "outputs": [],
   "source": []
  },
  {
   "cell_type": "code",
   "execution_count": null,
   "metadata": {
    "collapsed": false
   },
   "outputs": [],
   "source": []
  },
  {
   "cell_type": "code",
   "execution_count": null,
   "metadata": {
    "collapsed": true
   },
   "outputs": [],
   "source": []
  }
 ],
 "metadata": {
  "kernelspec": {
   "display_name": "Python 3",
   "language": "python",
   "name": "python3"
  },
  "language_info": {
   "codemirror_mode": {
    "name": "ipython",
    "version": 3
   },
   "file_extension": ".py",
   "mimetype": "text/x-python",
   "name": "python",
   "nbconvert_exporter": "python",
   "pygments_lexer": "ipython3",
   "version": "3.5.2"
  }
 },
 "nbformat": 4,
 "nbformat_minor": 0
}
